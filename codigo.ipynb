{
 "cells": [
  {
   "cell_type": "code",
   "execution_count": 4,
   "id": "792e5a0d-502f-4692-b9b9-f018027980c0",
   "metadata": {},
   "outputs": [],
   "source": [
    "import pandas as pd\n",
    "import numpy as np"
   ]
  },
  {
   "cell_type": "code",
   "execution_count": 14,
   "id": "7973bb26-2174-4020-91a6-bd94d5b0f7d3",
   "metadata": {},
   "outputs": [],
   "source": [
    "# PC\n",
    "data = pd.read_csv(r'C:\\Users\\Ezequiel\\Desktop\\machine-learning-2c-2025\\data.csv', low_memory=False, sep='|')\n",
    "# Notebook\n",
    "#data = pd.read_csv(r'C:\\Users\\forma\\Desktop\\machine-learning-2c-2025\\data.csv', low_memory=False, sep='|')"
   ]
  },
  {
   "cell_type": "code",
   "execution_count": 15,
   "id": "a2d5398c-b483-41f8-bb07-da8ee8fedcdb",
   "metadata": {},
   "outputs": [
    {
     "data": {
      "text/plain": [
       "Index(['client_id', 'Target', 'Month', 'First_product_dt', 'Last_product_dt',\n",
       "       'CreditCard_Premium', 'CreditCard_Active', 'CreditCard_CoBranding',\n",
       "       'Loan_Active', 'Mortgage_Active', 'SavingAccount_Active_ARG_Salary',\n",
       "       'SavingAccount_Active_ARG', 'SavingAccount_Active_DOLLAR',\n",
       "       'DebitCard_Active', 'Investment_Active', 'Package_Active',\n",
       "       'Insurance_Life', 'Insurance_Home', 'Insurance_Accidents',\n",
       "       'Insurance_Mobile', 'Insurance_ATM', 'Insurance_Unemployment', 'Sex',\n",
       "       'Client_Age_grp', 'SavingAccount_Balance_FirstDate',\n",
       "       'SavingAccount_Balance_LastDate', 'SavingAccount_Balance_Average',\n",
       "       'SavingAccount_Days_with_use', 'SavingAccount_Days_with_Credits',\n",
       "       'SavingAccount_Days_with_Debits',\n",
       "       'SavingAccount_Salary_Payment_Transactions',\n",
       "       'SavingAccount_Transfer_In_Transactions',\n",
       "       'SavingAccount_ATM_Extraction_Transactions',\n",
       "       'SavingAccount_Service_Payment_Transactions',\n",
       "       'SavingAccount_CreditCard_Payment_Transactions',\n",
       "       'SavingAccount_Transfer_Out_Transactions',\n",
       "       'SavingAccount_DebitCard_Spend_Transactions',\n",
       "       'SavingAccount_Transactions_Transactions',\n",
       "       'SavingAccount_Credits_Transactions',\n",
       "       'SavingAccount_Debits_Transactions',\n",
       "       'SavingAccount_Salary_Payment_Amount',\n",
       "       'SavingAccount_Transfer_In_Amount',\n",
       "       'SavingAccount_ATM_Extraction_Amount',\n",
       "       'SavingAccount_Service_Payment_Amount',\n",
       "       'SavingAccount_CreditCard_Payment_Amount',\n",
       "       'SavingAccount_Transfer_Out_Amount',\n",
       "       'SavingAccount_DebitCard_Spend_Amount', 'SavingAccount_Total_Amount',\n",
       "       'SavingAccount_Credits_Amounts', 'SavingAccount_Debits_Amounts',\n",
       "       'Operations_Bank', 'Operations_Terminal', 'Operations_HomeBanking',\n",
       "       'Operations_Mobile', 'Operations_Ivr', 'Operations_Telemarketer',\n",
       "       'Operations_ATM', 'CreditCard_Balance_ARG', 'CreditCard_Balance_DOLLAR',\n",
       "       'CreditCard_Total_Limit', 'CreditCard_Total_Spending',\n",
       "       'CreditCard_Spending_1_Installment', 'CreditCard_Spending_Installments',\n",
       "       'CreditCard_Spending_CrossBoarder', 'CreditCard_Spending_Aut_Debits',\n",
       "       'CreditCard_Revolving', 'CreditCard_Payment_Aut_Debit',\n",
       "       'CreditCard_Payment_External', 'CreditCard_Payment_Cash',\n",
       "       'CreditCard_Payment_Web', 'CreditCard_Payment_ATM',\n",
       "       'CreditCard_Payment_TAS', 'Investment_Numbers', 'Mobile', 'Email',\n",
       "       'Region', 'CreditCard_Product'],\n",
       "      dtype='object')"
      ]
     },
     "execution_count": 15,
     "metadata": {},
     "output_type": "execute_result"
    }
   ],
   "source": [
    "data.columns"
   ]
  },
  {
   "cell_type": "code",
   "execution_count": 16,
   "id": "ee337f75-6c60-4db7-b103-18298fe83217",
   "metadata": {},
   "outputs": [
    {
     "name": "stdout",
     "output_type": "stream",
     "text": [
      "client_id\n",
      "4221845                   9\n",
      "7219504                   9\n",
      "5882370                   9\n",
      "1158013                   9\n",
      "3914580                   9\n",
      "                         ..\n",
      "6623284                   1\n",
      "672542                    1\n",
      "264018                    1\n",
      "4424661                   1\n",
      "(238615 rows affected)    1\n",
      "Name: count, Length: 26561, dtype: int64\n"
     ]
    }
   ],
   "source": [
    "print(data['client_id'].value_counts())"
   ]
  },
  {
   "cell_type": "code",
   "execution_count": 27,
   "id": "c9d243df-a4c3-4650-849e-880a4a93cf21",
   "metadata": {},
   "outputs": [
    {
     "data": {
      "text/plain": [
       "(238347, 77)"
      ]
     },
     "execution_count": 27,
     "metadata": {},
     "output_type": "execute_result"
    }
   ],
   "source": [
    "# Busco los ID´s de los clientes que tienen 9 meses de data\n",
    "\n",
    "# Creo una tabla con ID_cliente, cantidad de apariciones\n",
    "ids_clientes_9m = data['client_id'].value_counts()\n",
    "\n",
    "# Me quedo solo con aquellos que aparecen 9 veces \n",
    "ids_clientes_9m = ids_clientes_9m[ids_clientes_9m == 9].index\n",
    "\n",
    "# Me quedo con todos los datos de quienes aparecen 9 meses\n",
    "data_clientes_9m = data[data['client_id'].isin(ids_clientes_9m)]\n",
    "\n",
    "data_clientes_9m.shape"
   ]
  },
  {
   "cell_type": "code",
   "execution_count": 22,
   "id": "91340491-fcea-44dd-a0c8-dfa5854679c8",
   "metadata": {},
   "outputs": [
    {
     "data": {
      "text/plain": [
       "(23191,)"
      ]
     },
     "execution_count": 22,
     "metadata": {},
     "output_type": "execute_result"
    }
   ],
   "source": [
    "# [agosto, septiembre, octubre, noviembre, diciembre, enero] TW, [febrero] LW, [marzo, abril] PW\n",
    "\n",
    "# me quedo con los clientes que en el ultimo mes de la TW tienen package_active = no & CreditCard_CoBranding = no, y ademas, aparecen en los 9 meses\n",
    "filtered_bussiness_conditions = data_clientes_9m[(data_clientes_9m['Month'] == '2019-01-01') \n",
    "                    & (data_clientes_9m['Package_Active'] == 'No')\n",
    "                    & (data_clientes_9m['CreditCard_CoBranding'] == 'No')]\n",
    "\n",
    "# Obtengo sus id\n",
    "ids_filtered_bussiness_conditions = filtered_bussiness_conditions['client_id'].values\n",
    "ids_filtered_bussiness_conditions.shape"
   ]
  },
  {
   "cell_type": "code",
   "execution_count": 23,
   "id": "2c5b5395-8a51-49c1-a1a4-0476c10a4598",
   "metadata": {},
   "outputs": [
    {
     "data": {
      "text/plain": [
       "(208719, 77)"
      ]
     },
     "execution_count": 23,
     "metadata": {},
     "output_type": "execute_result"
    }
   ],
   "source": [
    "# Ahora unifico la tabla de clientes filtrados por paquete con los que aparecen 9 meses \n",
    "data_final = data[data['client_id'].isin(ids_filtered_bussiness_conditions)]\n",
    "\n",
    "data_final.shape"
   ]
  },
  {
   "cell_type": "code",
   "execution_count": 24,
   "id": "05ae7cab-e391-4e3d-a421-32c15324be11",
   "metadata": {},
   "outputs": [
    {
     "data": {
      "text/plain": [
       "(139146, 77)"
      ]
     },
     "execution_count": 24,
     "metadata": {},
     "output_type": "execute_result"
    }
   ],
   "source": [
    "# Ahora ya puedo separar las ventanas\n",
    "training_window = data_final[data_final['Month'].isin(['2018-08-01',    \n",
    "'2018-09-01',\n",
    "'2018-10-01',\n",
    "'2018-11-01',\n",
    "'2018-12-01',\n",
    "'2019-01-01'   \n",
    "])]\n",
    "\n",
    "training_window.shape"
   ]
  },
  {
   "cell_type": "code",
   "execution_count": 25,
   "id": "31cbcb3a-4a96-4a84-9891-37933bf8cbc3",
   "metadata": {},
   "outputs": [],
   "source": [
    "#data_lead_window = data_final[data_final['Month'].isin(['2018-08-01'])]\n",
    "#data_training_window.shape"
   ]
  },
  {
   "cell_type": "code",
   "execution_count": 26,
   "id": "e6a7f640-f666-4e3b-8149-84e90fef7dda",
   "metadata": {},
   "outputs": [
    {
     "data": {
      "text/plain": [
       "['SavingAccount_Balance_Average', 'Region', 'CreditCard_Product']"
      ]
     },
     "execution_count": 26,
     "metadata": {},
     "output_type": "execute_result"
    }
   ],
   "source": [
    "# Ahora tengo que empezar a limpiar los datos, empiezo por ver las columnas que contengan nulos\n",
    "training_window.columns[training_window.isnull().any()].tolist()"
   ]
  },
  {
   "cell_type": "code",
   "execution_count": 29,
   "id": "5f1d52be-a6ba-4531-96d3-b0c1d5613198",
   "metadata": {},
   "outputs": [
    {
     "name": "stdout",
     "output_type": "stream",
     "text": [
      "0          406.35\n",
      "1           73.56\n",
      "2            0.00\n",
      "3         2366.02\n",
      "4            0.40\n",
      "           ...   \n",
      "238597       0.00\n",
      "238603       0.00\n",
      "238604     367.43\n",
      "238608       0.00\n",
      "238612        NaN\n",
      "Name: SavingAccount_Balance_Average, Length: 139146, dtype: float64\n"
     ]
    }
   ],
   "source": [
    "# 3 columnas tienen nulos\n",
    "\n",
    "# 1) SavingAccount_Balance_Average: Esta es una de las columnas que presenta nulos, es el promedio del monto que se tiene en la cuenta de ahorros\n",
    "print(training_window['SavingAccount_Balance_Average'])"
   ]
  },
  {
   "cell_type": "code",
   "execution_count": 31,
   "id": "84567ce8-b5a8-49e7-b87c-40856d627607",
   "metadata": {},
   "outputs": [],
   "source": [
    "# Reemplazo los valores nulos con Balance_FirstDate - Debits + Credits\n",
    "training_window.loc[:, 'SavingAccount_Balance_Average'] = (\n",
    "    training_window['SavingAccount_Balance_Average'].fillna(\n",
    "        training_window['SavingAccount_Balance_FirstDate']\n",
    "        - training_window['SavingAccount_Debits_Amounts']\n",
    "        + training_window['SavingAccount_Credits_Amounts']\n",
    "    )\n",
    ")"
   ]
  },
  {
   "cell_type": "code",
   "execution_count": 32,
   "id": "1d9e71ec-edf3-495e-a9dc-ef9de6f92012",
   "metadata": {},
   "outputs": [
    {
     "name": "stdout",
     "output_type": "stream",
     "text": [
      "0         NaN\n",
      "1         NaN\n",
      "2         NaN\n",
      "3         NaN\n",
      "4         NaN\n",
      "         ... \n",
      "238597    NaN\n",
      "238603    NaN\n",
      "238604    NaN\n",
      "238608    NaN\n",
      "238612    NaN\n",
      "Name: Region, Length: 139146, dtype: object\n"
     ]
    }
   ],
   "source": [
    "# 2) Region: Es la segunda columna con nulos \n",
    "print(training_window['Region'])"
   ]
  },
  {
   "cell_type": "code",
   "execution_count": 33,
   "id": "9b95905b-518f-4e74-8d0e-164c6e1389be",
   "metadata": {},
   "outputs": [
    {
     "data": {
      "text/plain": [
       "Series([], Name: count, dtype: int64)"
      ]
     },
     "execution_count": 33,
     "metadata": {},
     "output_type": "execute_result"
    }
   ],
   "source": [
    "# Parecen todos nulos, me fijo si tiene valores diferentes\n",
    "training_window['Region'].value_counts()"
   ]
  },
  {
   "cell_type": "code",
   "execution_count": 36,
   "id": "9fbbf06b-8b8e-4697-890f-c0317ffa01e7",
   "metadata": {},
   "outputs": [
    {
     "data": {
      "text/plain": [
       "Region\n",
       "BUENOS AIRES                     14293\n",
       "REGION CENTRO                    11735\n",
       "REGION NORTE GRANDE ARGENTINO    10142\n",
       "REGION PATAGONICA                 4968\n",
       "CABA Centro/Norte                 4228\n",
       "REGION CUYO                       3982\n",
       "AMBA Resto                        3732\n",
       "Name: count, dtype: int64"
      ]
     },
     "execution_count": 36,
     "metadata": {},
     "output_type": "execute_result"
    }
   ],
   "source": [
    "data['Region'].value_counts()"
   ]
  },
  {
   "cell_type": "code",
   "execution_count": null,
   "id": "6f7eeb3a-f151-46fb-bb51-6d7ffea632e9",
   "metadata": {},
   "outputs": [],
   "source": [
    "# Preguntar, porque no se hace nada con region?"
   ]
  },
  {
   "cell_type": "code",
   "execution_count": 39,
   "id": "acfc314c-399b-451e-a207-efcb941d655e",
   "metadata": {},
   "outputs": [
    {
     "name": "stdout",
     "output_type": "stream",
     "text": [
      "0         NaN\n",
      "1         NaN\n",
      "2         NaN\n",
      "3         NaN\n",
      "4         NaN\n",
      "         ... \n",
      "238597    NaN\n",
      "238603    NaN\n",
      "238604    NaN\n",
      "238608    NaN\n",
      "238612    NaN\n",
      "Name: CreditCard_Product, Length: 139146, dtype: object\n"
     ]
    }
   ],
   "source": [
    "print(training_window['CreditCard_Product'])"
   ]
  },
  {
   "cell_type": "code",
   "execution_count": 37,
   "id": "fda828fe-6ce8-4c8f-907a-170422fbe2c2",
   "metadata": {},
   "outputs": [
    {
     "data": {
      "text/plain": [
       "Series([], Name: count, dtype: int64)"
      ]
     },
     "execution_count": 37,
     "metadata": {},
     "output_type": "execute_result"
    }
   ],
   "source": [
    "# 3) CreditCard_Product: Es la terecer columna con nulos\n",
    "training_window['CreditCard_Product'].value_counts()"
   ]
  },
  {
   "cell_type": "code",
   "execution_count": 40,
   "id": "d88c49a4-7b47-4bde-8214-1f787f394bb0",
   "metadata": {},
   "outputs": [
    {
     "data": {
      "text/plain": [
       "CreditCard_Product\n",
       "J55660104XX012    17298\n",
       "J55660202XX012    12047\n",
       "J55660124XX012     4978\n",
       "J55660102XX012      834\n",
       "J55660123XX012      774\n",
       "J55660702XX012      567\n",
       "J55661002XX012      138\n",
       "Name: count, dtype: int64"
      ]
     },
     "execution_count": 40,
     "metadata": {},
     "output_type": "execute_result"
    }
   ],
   "source": [
    "data['CreditCard_Product'].value_counts()"
   ]
  },
  {
   "cell_type": "code",
   "execution_count": null,
   "id": "c5aff08e-e850-47b6-b444-1c503ffb84b6",
   "metadata": {},
   "outputs": [],
   "source": [
    "# Preguntar, porque no se hace nada con CreditCard_Product?"
   ]
  },
  {
   "cell_type": "code",
   "execution_count": null,
   "id": "1a763690-ddc4-4f91-9354-33ed5ed7f073",
   "metadata": {},
   "outputs": [],
   "source": [
    "# Preguntar que hace en la linea 35?"
   ]
  }
 ],
 "metadata": {
  "kernelspec": {
   "display_name": "Python [conda env:base] *",
   "language": "python",
   "name": "conda-base-py"
  },
  "language_info": {
   "codemirror_mode": {
    "name": "ipython",
    "version": 3
   },
   "file_extension": ".py",
   "mimetype": "text/x-python",
   "name": "python",
   "nbconvert_exporter": "python",
   "pygments_lexer": "ipython3",
   "version": "3.13.5"
  }
 },
 "nbformat": 4,
 "nbformat_minor": 5
}
