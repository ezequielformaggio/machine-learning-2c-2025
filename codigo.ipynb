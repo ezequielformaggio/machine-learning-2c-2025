{
 "cells": [
  {
   "cell_type": "code",
   "execution_count": 1,
   "id": "792e5a0d-502f-4692-b9b9-f018027980c0",
   "metadata": {},
   "outputs": [],
   "source": [
    "import pandas as pd\n",
    "import numpy as np"
   ]
  },
  {
   "cell_type": "code",
   "execution_count": 2,
   "id": "7973bb26-2174-4020-91a6-bd94d5b0f7d3",
   "metadata": {},
   "outputs": [],
   "source": [
    "# PC\n",
    "data = pd.read_csv(r'C:\\Users\\Ezequiel\\Desktop\\machine-learning-2c-2025\\data.csv', low_memory=False, sep='|')\n",
    "# Notebook\n",
    "#data = pd.read_csv(r'C:\\Users\\forma\\Desktop\\machine-learning-2c-2025\\data.csv', low_memory=False, sep='|')"
   ]
  },
  {
   "cell_type": "code",
   "execution_count": 3,
   "id": "a2d5398c-b483-41f8-bb07-da8ee8fedcdb",
   "metadata": {},
   "outputs": [
    {
     "data": {
      "text/plain": [
       "Index(['client_id', 'Target', 'Month', 'First_product_dt', 'Last_product_dt',\n",
       "       'CreditCard_Premium', 'CreditCard_Active', 'CreditCard_CoBranding',\n",
       "       'Loan_Active', 'Mortgage_Active', 'SavingAccount_Active_ARG_Salary',\n",
       "       'SavingAccount_Active_ARG', 'SavingAccount_Active_DOLLAR',\n",
       "       'DebitCard_Active', 'Investment_Active', 'Package_Active',\n",
       "       'Insurance_Life', 'Insurance_Home', 'Insurance_Accidents',\n",
       "       'Insurance_Mobile', 'Insurance_ATM', 'Insurance_Unemployment', 'Sex',\n",
       "       'Client_Age_grp', 'SavingAccount_Balance_FirstDate',\n",
       "       'SavingAccount_Balance_LastDate', 'SavingAccount_Balance_Average',\n",
       "       'SavingAccount_Days_with_use', 'SavingAccount_Days_with_Credits',\n",
       "       'SavingAccount_Days_with_Debits',\n",
       "       'SavingAccount_Salary_Payment_Transactions',\n",
       "       'SavingAccount_Transfer_In_Transactions',\n",
       "       'SavingAccount_ATM_Extraction_Transactions',\n",
       "       'SavingAccount_Service_Payment_Transactions',\n",
       "       'SavingAccount_CreditCard_Payment_Transactions',\n",
       "       'SavingAccount_Transfer_Out_Transactions',\n",
       "       'SavingAccount_DebitCard_Spend_Transactions',\n",
       "       'SavingAccount_Transactions_Transactions',\n",
       "       'SavingAccount_Credits_Transactions',\n",
       "       'SavingAccount_Debits_Transactions',\n",
       "       'SavingAccount_Salary_Payment_Amount',\n",
       "       'SavingAccount_Transfer_In_Amount',\n",
       "       'SavingAccount_ATM_Extraction_Amount',\n",
       "       'SavingAccount_Service_Payment_Amount',\n",
       "       'SavingAccount_CreditCard_Payment_Amount',\n",
       "       'SavingAccount_Transfer_Out_Amount',\n",
       "       'SavingAccount_DebitCard_Spend_Amount', 'SavingAccount_Total_Amount',\n",
       "       'SavingAccount_Credits_Amounts', 'SavingAccount_Debits_Amounts',\n",
       "       'Operations_Bank', 'Operations_Terminal', 'Operations_HomeBanking',\n",
       "       'Operations_Mobile', 'Operations_Ivr', 'Operations_Telemarketer',\n",
       "       'Operations_ATM', 'CreditCard_Balance_ARG', 'CreditCard_Balance_DOLLAR',\n",
       "       'CreditCard_Total_Limit', 'CreditCard_Total_Spending',\n",
       "       'CreditCard_Spending_1_Installment', 'CreditCard_Spending_Installments',\n",
       "       'CreditCard_Spending_CrossBoarder', 'CreditCard_Spending_Aut_Debits',\n",
       "       'CreditCard_Revolving', 'CreditCard_Payment_Aut_Debit',\n",
       "       'CreditCard_Payment_External', 'CreditCard_Payment_Cash',\n",
       "       'CreditCard_Payment_Web', 'CreditCard_Payment_ATM',\n",
       "       'CreditCard_Payment_TAS', 'Investment_Numbers', 'Mobile', 'Email',\n",
       "       'Region', 'CreditCard_Product'],\n",
       "      dtype='object')"
      ]
     },
     "execution_count": 3,
     "metadata": {},
     "output_type": "execute_result"
    }
   ],
   "source": [
    "data.columns"
   ]
  },
  {
   "cell_type": "code",
   "execution_count": 4,
   "id": "ee337f75-6c60-4db7-b103-18298fe83217",
   "metadata": {},
   "outputs": [
    {
     "name": "stdout",
     "output_type": "stream",
     "text": [
      "client_id\n",
      "4221845                   9\n",
      "7219504                   9\n",
      "5882370                   9\n",
      "1158013                   9\n",
      "3914580                   9\n",
      "                         ..\n",
      "6623284                   1\n",
      "672542                    1\n",
      "264018                    1\n",
      "4424661                   1\n",
      "(238615 rows affected)    1\n",
      "Name: count, Length: 26561, dtype: int64\n"
     ]
    }
   ],
   "source": [
    "print(data['client_id'].value_counts())"
   ]
  },
  {
   "cell_type": "code",
   "execution_count": 5,
   "id": "c9d243df-a4c3-4650-849e-880a4a93cf21",
   "metadata": {},
   "outputs": [
    {
     "data": {
      "text/plain": [
       "(238347, 77)"
      ]
     },
     "execution_count": 5,
     "metadata": {},
     "output_type": "execute_result"
    }
   ],
   "source": [
    "# Busco los ID´s de los clientes que tienen 9 meses de data\n",
    "\n",
    "# Creo una tabla con ID_cliente, cantidad de apariciones\n",
    "ids_clientes_9m = data['client_id'].value_counts()\n",
    "\n",
    "# Me quedo solo con aquellos que aparecen 9 veces \n",
    "ids_clientes_9m = ids_clientes_9m[ids_clientes_9m == 9].index\n",
    "\n",
    "# Me quedo con todos los datos de quienes aparecen 9 meses\n",
    "data_clientes_9m = data[data['client_id'].isin(ids_clientes_9m)]\n",
    "\n",
    "data_clientes_9m.shape"
   ]
  },
  {
   "cell_type": "code",
   "execution_count": 6,
   "id": "91340491-fcea-44dd-a0c8-dfa5854679c8",
   "metadata": {},
   "outputs": [
    {
     "data": {
      "text/plain": [
       "(23191,)"
      ]
     },
     "execution_count": 6,
     "metadata": {},
     "output_type": "execute_result"
    }
   ],
   "source": [
    "# [agosto, septiembre, octubre, noviembre, diciembre, enero] TW, [febrero] LW, [marzo, abril] PW\n",
    "\n",
    "# me quedo con los clientes que en el ultimo mes de la TW tienen package_active = no & CreditCard_CoBranding = no, y ademas, aparecen en los 9 meses\n",
    "filtered_bussiness_conditions = data_clientes_9m[(data_clientes_9m['Month'] == '2019-01-01') \n",
    "                    & (data_clientes_9m['Package_Active'] == 'No')\n",
    "                    & (data_clientes_9m['CreditCard_CoBranding'] == 'No')]\n",
    "\n",
    "# Obtengo sus id\n",
    "ids_filtered_bussiness_conditions = filtered_bussiness_conditions['client_id'].values\n",
    "ids_filtered_bussiness_conditions.shape"
   ]
  },
  {
   "cell_type": "code",
   "execution_count": 7,
   "id": "c30e55f1-3cb0-40b3-b460-9254f48472cc",
   "metadata": {},
   "outputs": [
    {
     "data": {
      "text/plain": [
       "TGT\n",
       "0.0    16368\n",
       "1.0     6823\n",
       "Name: count, dtype: int64"
      ]
     },
     "execution_count": 7,
     "metadata": {},
     "output_type": "execute_result"
    }
   ],
   "source": [
    "#se toman los ultimos 2 meses\n",
    "data_TGT = data[data['Month'].isin(['2019-03-01', '2019-04-01'])][['client_id', 'Target']]\n",
    "\n",
    "#se buscan los que esten dentro del target y despues se mergea con el general quedando los ids con y sin target\n",
    "data_TGT = data[(data['Month'].isin(['2019-03-01', '2019-04-01'])) \n",
    "       & (data['Target'] == 1)][['client_id']].drop_duplicates()\n",
    "\n",
    "data_TGT['TGT'] = 1\n",
    "\n",
    "data_final_simple = pd.merge(filtered_bussiness_conditions['client_id'].drop_duplicates(),data_TGT,how='left',on='client_id')\n",
    "\n",
    "data_final_simple['TGT'] = data_final_simple['TGT'].fillna(0)\n",
    "\n",
    "data_final_simple['TGT'].value_counts()"
   ]
  },
  {
   "cell_type": "code",
   "execution_count": 8,
   "id": "2c5b5395-8a51-49c1-a1a4-0476c10a4598",
   "metadata": {},
   "outputs": [
    {
     "data": {
      "text/plain": [
       "(208719, 77)"
      ]
     },
     "execution_count": 8,
     "metadata": {},
     "output_type": "execute_result"
    }
   ],
   "source": [
    "# Ahora unifico la tabla de clientes filtrados por paquete con los que aparecen 9 meses \n",
    "data_final = data[data['client_id'].isin(ids_filtered_bussiness_conditions)]\n",
    "data_final.shape"
   ]
  },
  {
   "cell_type": "markdown",
   "id": "7bb2af42-e331-4ab9-9ed9-b51ccc33654f",
   "metadata": {},
   "source": [
    "# Ahora ya puedo separar las ventanas\n",
    "training_window = data_final[data_final['Month'].isin(['2018-08-01',    \n",
    "'2018-09-01',\n",
    "'2018-10-01',\n",
    "'2018-11-01',\n",
    "'2018-12-01',\n",
    "'2019-01-01'   \n",
    "])]\n",
    "\n",
    "training_window.shape"
   ]
  },
  {
   "cell_type": "code",
   "execution_count": 9,
   "id": "87fc323b-a370-4e20-a252-f67ee5194e9d",
   "metadata": {},
   "outputs": [
    {
     "data": {
      "text/plain": [
       "(23191, 77)"
      ]
     },
     "execution_count": 9,
     "metadata": {},
     "output_type": "execute_result"
    }
   ],
   "source": [
    "lead_window = data_final[data_final['Month'].isin(['2019-02-01'])]\n",
    "lead_window.shape"
   ]
  },
  {
   "cell_type": "code",
   "execution_count": 10,
   "id": "97dfde2a-4c04-4358-8d25-4ebaf989c7a0",
   "metadata": {},
   "outputs": [
    {
     "ename": "NameError",
     "evalue": "name 'training_window' is not defined",
     "output_type": "error",
     "traceback": [
      "\u001b[1;31m---------------------------------------------------------------------------\u001b[0m",
      "\u001b[1;31mNameError\u001b[0m                                 Traceback (most recent call last)",
      "Cell \u001b[1;32mIn[10], line 1\u001b[0m\n\u001b[1;32m----> 1\u001b[0m training_window[\u001b[38;5;124m'\u001b[39m\u001b[38;5;124mTarget\u001b[39m\u001b[38;5;124m'\u001b[39m]\u001b[38;5;241m.\u001b[39mvalue_counts()\n",
      "\u001b[1;31mNameError\u001b[0m: name 'training_window' is not defined"
     ]
    }
   ],
   "source": [
    "training_window['Target'].value_counts()"
   ]
  },
  {
   "cell_type": "code",
   "execution_count": null,
   "id": "e6a7f640-f666-4e3b-8149-84e90fef7dda",
   "metadata": {},
   "outputs": [],
   "source": [
    "# Ahora tengo que empezar a limpiar los datos, empiezo por ver las columnas que contengan nulos\n",
    "training_window.columns[training_window.isnull().any()].tolist()"
   ]
  },
  {
   "cell_type": "code",
   "execution_count": null,
   "id": "5f1d52be-a6ba-4531-96d3-b0c1d5613198",
   "metadata": {},
   "outputs": [],
   "source": [
    "# 3 columnas tienen nulos\n",
    "\n",
    "# 1) SavingAccount_Balance_Average: Esta es una de las columnas que presenta nulos, es el promedio del monto que se tiene en la cuenta de ahorros\n",
    "print(training_window['SavingAccount_Balance_Average'])"
   ]
  },
  {
   "cell_type": "code",
   "execution_count": null,
   "id": "84567ce8-b5a8-49e7-b87c-40856d627607",
   "metadata": {},
   "outputs": [],
   "source": [
    "# Reemplazo los valores nulos con Balance_FirstDate - Debits + Credits\n",
    "training_window.loc[:, 'SavingAccount_Balance_Average'] = (\n",
    "    training_window['SavingAccount_Balance_Average'].fillna(\n",
    "        training_window['SavingAccount_Balance_FirstDate']\n",
    "        - training_window['SavingAccount_Debits_Amounts']\n",
    "        + training_window['SavingAccount_Credits_Amounts']\n",
    "    )\n",
    ")"
   ]
  },
  {
   "cell_type": "code",
   "execution_count": null,
   "id": "1d9e71ec-edf3-495e-a9dc-ef9de6f92012",
   "metadata": {},
   "outputs": [],
   "source": [
    "# 2) Region: Es la segunda columna con nulos \n",
    "print(training_window['Region'])"
   ]
  },
  {
   "cell_type": "code",
   "execution_count": null,
   "id": "9b95905b-518f-4e74-8d0e-164c6e1389be",
   "metadata": {},
   "outputs": [],
   "source": [
    "# Parecen todos nulos, me fijo si tiene valores diferentes\n",
    "training_window['Region'].value_counts()"
   ]
  },
  {
   "cell_type": "code",
   "execution_count": null,
   "id": "42f7081d-1ce1-4b95-977a-c64627c8aea3",
   "metadata": {},
   "outputs": [],
   "source": [
    "# Como son todos nulos, voy a buscar el dato de region mas cercano en el tiempo de cada cliente  y voy a suponer que \n",
    "# no cambio \n",
    "region_data = data_final.loc[data_final['Month'].isin(['2019-03-01']), ['client_id', 'Region']]\n",
    "region_data"
   ]
  },
  {
   "cell_type": "code",
   "execution_count": null,
   "id": "387006da-178f-493e-8f21-e4c8661e14f3",
   "metadata": {},
   "outputs": [],
   "source": [
    "# PArece todo bien, pero me fijo si quedo algun nulo\n",
    "region_data['Region'].isna().sum()"
   ]
  },
  {
   "cell_type": "code",
   "execution_count": null,
   "id": "67c8fca1-dbe9-4195-b8c3-96d030d2aecb",
   "metadata": {},
   "outputs": [],
   "source": [
    "# Quedan 6 valores nulos, los relleno con la region mas popular\n",
    "region_data['Region'].value_counts()"
   ]
  },
  {
   "cell_type": "code",
   "execution_count": null,
   "id": "fbfbf3fa-06b4-46d8-ac56-36296991fceb",
   "metadata": {},
   "outputs": [],
   "source": [
    "region_data[region_data['Region'].isna()]"
   ]
  },
  {
   "cell_type": "code",
   "execution_count": null,
   "id": "79091f80-a5dc-480a-a930-cd51a9954898",
   "metadata": {},
   "outputs": [],
   "source": [
    "region_data['Region'] = region_data['Region'].fillna('BUENOS AIRES')"
   ]
  },
  {
   "cell_type": "code",
   "execution_count": null,
   "id": "677538d4-370e-4c7a-bbca-6a8be970fc6d",
   "metadata": {},
   "outputs": [],
   "source": [
    "region_data['Region'].isna().sum()"
   ]
  },
  {
   "cell_type": "code",
   "execution_count": null,
   "id": "9fbbf06b-8b8e-4697-890f-c0317ffa01e7",
   "metadata": {},
   "outputs": [],
   "source": [
    "# Ya me asegure de que Region no tenga nulos\n",
    "# Borro la columna region vacia\n",
    "training_window.drop(['Region'], axis=1, inplace=True)\n",
    "\n",
    "# Agrego la columna con los nuevos datos\n",
    "training_window = training_window.merge(region_data[['client_id', 'Region']], on='client_id', how='left')\n",
    "training_window"
   ]
  },
  {
   "cell_type": "code",
   "execution_count": null,
   "id": "fda828fe-6ce8-4c8f-907a-170422fbe2c2",
   "metadata": {},
   "outputs": [],
   "source": [
    "# 3) CreditCard_Product: Es la terecer columna con nulos\n",
    "training_window['CreditCard_Product'].value_counts()"
   ]
  },
  {
   "cell_type": "code",
   "execution_count": null,
   "id": "d88c49a4-7b47-4bde-8214-1f787f394bb0",
   "metadata": {},
   "outputs": [],
   "source": [
    "data['CreditCard_Product'].value_counts()"
   ]
  },
  {
   "cell_type": "code",
   "execution_count": null,
   "id": "ffe7c870-5eaf-456c-9427-dbfe00accbbe",
   "metadata": {},
   "outputs": [],
   "source": [
    "data['CreditCard_Product'].shape"
   ]
  },
  {
   "cell_type": "code",
   "execution_count": null,
   "id": "c5aff08e-e850-47b6-b444-1c503ffb84b6",
   "metadata": {},
   "outputs": [],
   "source": [
    "# Como todos los valores son nulos, procedo a intentar hacer lo mismo que con Region, pero teniendo en cuenta el pasado\n",
    "# y el futuro\n",
    "CreditCard_Product_data = data_final.loc[data_final['Month'].isin(['2019-03-01']), ['client_id', 'CreditCard_Product']]\n",
    "CreditCard_Active_last_month = data_final.loc[data_final['Month'].isin(['2019-01-01']), ['client_id', 'CreditCard_Active']]\n",
    "merged = CreditCard_Product_data.merge(CreditCard_Active_last_month,on='client_id',how='left')\n",
    "merged"
   ]
  },
  {
   "cell_type": "code",
   "execution_count": null,
   "id": "be775928-0730-403d-a224-ccd3c39d4234",
   "metadata": {},
   "outputs": [],
   "source": [
    "# Me fijo si existen valores presentes CreditCard_Active = No y valores futuros CreditCard_Product != null, en ese caso\n",
    "# los modifico para priorizar los datos del pasado\n",
    "merged[(merged['CreditCard_Active'] == 'No') & (merged['CreditCard_Product'].notna())]"
   ]
  },
  {
   "cell_type": "code",
   "execution_count": null,
   "id": "30bf8099-0c72-402f-9e02-de671bd7f869",
   "metadata": {},
   "outputs": [],
   "source": [
    "# Veo que existen dichos datos, los modifico \n",
    "merged.loc[(merged['CreditCard_Active'] == 'No') & (merged['CreditCard_Product'].notna()),'CreditCard_Product'] = 'No tiene'\n",
    "merged[(merged['CreditCard_Active'] == 'No') & (merged['CreditCard_Product'].notna())]"
   ]
  },
  {
   "cell_type": "code",
   "execution_count": null,
   "id": "9f203fa4-5a72-4b70-93ec-b93f51ff1769",
   "metadata": {},
   "outputs": [],
   "source": [
    "merged.drop(['CreditCard_Active'], axis=1, inplace=True)\n",
    "# Veo que todavia tiene nulos, de 23mil clientes 8081 no tienen CreditCard_Product\n",
    "merged['CreditCard_Product'].isna().sum()"
   ]
  },
  {
   "cell_type": "code",
   "execution_count": null,
   "id": "0d6383b2-e0e1-47b1-bad4-feb1beecd8e7",
   "metadata": {},
   "outputs": [],
   "source": [
    "# A los que no tienen les reemplazo los nulos por \"No tiene\"\n",
    "merged['CreditCard_Product'] = merged['CreditCard_Product'].fillna('No tiene')\n",
    "merged['CreditCard_Product'].isna().sum()"
   ]
  },
  {
   "cell_type": "code",
   "execution_count": null,
   "id": "4032ed67-79ac-4442-a6a8-ad7fcf4ea46d",
   "metadata": {},
   "outputs": [],
   "source": [
    "# Borro la columna CreditCard_Product\n",
    "training_window.drop(['CreditCard_Product'], axis=1, inplace=True)\n",
    "\n",
    "# Agrego la columna con los nuevos datos\n",
    "training_window = training_window.merge(merged[['client_id', 'CreditCard_Product']], on='client_id', how='left')\n",
    "training_window"
   ]
  },
  {
   "cell_type": "code",
   "execution_count": null,
   "id": "1a763690-ddc4-4f91-9354-33ed5ed7f073",
   "metadata": {},
   "outputs": [],
   "source": [
    "# Me fijo que no queden valores nulos\n",
    "training_window.columns[training_window.isnull().any()].tolist()\n",
    "# Eso fue el tratamiento de valores nulos"
   ]
  },
  {
   "cell_type": "code",
   "execution_count": null,
   "id": "6b834175-684b-46a4-9b60-4ff0648a40b0",
   "metadata": {},
   "outputs": [],
   "source": [
    "# Paso a tratar los Outliers"
   ]
  },
  {
   "cell_type": "code",
   "execution_count": null,
   "id": "34ab7823-2702-426a-a358-be8c7c8de1be",
   "metadata": {},
   "outputs": [],
   "source": [
    "# Uso bines\n",
    "numeric_columns = training_window[['SavingAccount_Balance_FirstDate', 'SavingAccount_Balance_LastDate', 'SavingAccount_Balance_Average', \n",
    "    'SavingAccount_Days_with_use', 'SavingAccount_Days_with_Credits', 'SavingAccount_Days_with_Debits', 'SavingAccount_Salary_Payment_Transactions', \n",
    "    'SavingAccount_Transfer_In_Transactions', 'SavingAccount_ATM_Extraction_Transactions', 'SavingAccount_Service_Payment_Transactions', \n",
    "    'SavingAccount_CreditCard_Payment_Transactions', 'SavingAccount_Transfer_Out_Transactions', 'SavingAccount_DebitCard_Spend_Transactions', \n",
    "    'SavingAccount_Transactions_Transactions', 'SavingAccount_Credits_Transactions', 'SavingAccount_Debits_Transactions', \n",
    "    'SavingAccount_Salary_Payment_Amount', 'SavingAccount_Transfer_In_Amount', 'SavingAccount_ATM_Extraction_Amount', \n",
    "    'SavingAccount_Service_Payment_Amount', 'SavingAccount_CreditCard_Payment_Amount', 'SavingAccount_Transfer_Out_Amount', \n",
    "    'SavingAccount_DebitCard_Spend_Amount', 'SavingAccount_Total_Amount', 'SavingAccount_Credits_Amounts', 'SavingAccount_Debits_Amounts', \n",
    "    'Operations_Bank', 'Operations_Terminal', 'Operations_HomeBanking', 'Operations_Mobile', 'Operations_Ivr', 'Operations_Telemarketer', \n",
    "    'Operations_ATM', 'CreditCard_Balance_ARG', 'CreditCard_Balance_DOLLAR', 'CreditCard_Total_Limit', 'CreditCard_Total_Spending', \n",
    "    'CreditCard_Spending_1_Installment', 'CreditCard_Spending_Installments', 'CreditCard_Spending_CrossBoarder', 'CreditCard_Spending_Aut_Debits', \n",
    "    'CreditCard_Revolving', 'CreditCard_Payment_Aut_Debit', 'CreditCard_Payment_External', 'CreditCard_Payment_Cash', 'CreditCard_Payment_Web', \n",
    "    'CreditCard_Payment_ATM', 'CreditCard_Payment_TAS', 'Investment_Numbers']]\n",
    "\n",
    "for col in numeric_columns:\n",
    "    q2 = training_window[col].quantile(0.75)\n",
    "    q3 = training_window[col].quantile(0.90)\n",
    "\n",
    "    new_col = f\"{col}_bin\"\n",
    "\n",
    "    training_window[new_col] = np.where(\n",
    "        training_window[col] == 0, 0,\n",
    "        np.where(training_window[col] < q2, 2,\n",
    "            np.where(training_window[col] < q3, 3, 4)\n",
    "        )\n",
    "    )\n",
    "\n",
    "    print(f\"{new_col} value counts:\")\n",
    "    print(training_window[new_col].value_counts(), \"\\n\")"
   ]
  },
  {
   "cell_type": "code",
   "execution_count": null,
   "id": "797ec24b-9ed0-410f-983f-3aa1ebd4fef6",
   "metadata": {},
   "outputs": [],
   "source": [
    "training_window['CreditCard_Revolving']"
   ]
  },
  {
   "cell_type": "code",
   "execution_count": null,
   "id": "cbb97000-9f2a-49d0-9d82-371a493bc590",
   "metadata": {},
   "outputs": [],
   "source": [
    "training_window['CreditCard_Revolving_bin']"
   ]
  },
  {
   "cell_type": "code",
   "execution_count": null,
   "id": "5ff8b224-a9d6-45df-ac9c-a1faa5108a9b",
   "metadata": {},
   "outputs": [],
   "source": [
    "training_window.shape"
   ]
  },
  {
   "cell_type": "code",
   "execution_count": null,
   "id": "ee37b8fa-08d9-4a4a-b54b-17d66f904c58",
   "metadata": {},
   "outputs": [],
   "source": [
    "# Borro las columnas que no necesito mas\n",
    "# training_window.drop(['SavingAccount_Balance_FirstDate', 'SavingAccount_Balance_LastDate', 'SavingAccount_Balance_Average', \n",
    "#    'SavingAccount_Days_with_use', 'SavingAccount_Days_with_Credits', 'SavingAccount_Days_with_Debits', 'SavingAccount_Salary_Payment_Transactions', \n",
    "#    'SavingAccount_Transfer_In_Transactions', 'SavingAccount_ATM_Extraction_Transactions', 'SavingAccount_Service_Payment_Transactions', \n",
    "#    'SavingAccount_CreditCard_Payment_Transactions', 'SavingAccount_Transfer_Out_Transactions', 'SavingAccount_DebitCard_Spend_Transactions', \n",
    "#    'SavingAccount_Transactions_Transactions', 'SavingAccount_Credits_Transactions', 'SavingAccount_Debits_Transactions', \n",
    "#    'SavingAccount_Salary_Payment_Amount', 'SavingAccount_Transfer_In_Amount', 'SavingAccount_ATM_Extraction_Amount', \n",
    "#    'SavingAccount_Service_Payment_Amount', 'SavingAccount_CreditCard_Payment_Amount', 'SavingAccount_Transfer_Out_Amount', \n",
    "#    'SavingAccount_DebitCard_Spend_Amount', 'SavingAccount_Total_Amount', 'SavingAccount_Credits_Amounts', 'SavingAccount_Debits_Amounts', \n",
    "#    'Operations_Bank', 'Operations_Terminal', 'Operations_HomeBanking', 'Operations_Mobile', 'Operations_Ivr', 'Operations_Telemarketer', \n",
    "#    'Operations_ATM', 'CreditCard_Balance_ARG', 'CreditCard_Balance_DOLLAR', 'CreditCard_Total_Limit', 'CreditCard_Total_Spending', \n",
    "#    'CreditCard_Spending_1_Installment', 'CreditCard_Spending_Installments', 'CreditCard_Spending_CrossBoarder', 'CreditCard_Spending_Aut_Debits', \n",
    "#    'CreditCard_Revolving', 'CreditCard_Payment_Aut_Debit', 'CreditCard_Payment_External', 'CreditCard_Payment_Cash', 'CreditCard_Payment_Web', \n",
    "#    'CreditCard_Payment_ATM', 'CreditCard_Payment_TAS', 'Investment_Numbers'], axis=1, inplace=True)"
   ]
  },
  {
   "cell_type": "code",
   "execution_count": null,
   "id": "20c5e57c-0dfb-4177-a33e-7572f8fc449d",
   "metadata": {},
   "outputs": [],
   "source": [
    "training_window.shape"
   ]
  },
  {
   "cell_type": "code",
   "execution_count": null,
   "id": "b3b36156-48ac-4865-bb5c-34f0651a8c48",
   "metadata": {},
   "outputs": [],
   "source": [
    "# Eso fue el tratamiento de outliers\n",
    "# Ahora paso a trabajar con las identity features"
   ]
  },
  {
   "cell_type": "code",
   "execution_count": null,
   "id": "9ee2c52b-85e3-45e2-8e55-d41f060eb2e1",
   "metadata": {},
   "outputs": [],
   "source": [
    "data_if = training_window[training_window['Month'] == '2019-01-01'][['client_id', 'Mobile', 'Email', 'CreditCard_Premium', 'CreditCard_Active', 'CreditCard_CoBranding', 'Loan_Active', \n",
    "    'Mortgage_Active', 'SavingAccount_Active_ARG_Salary', 'SavingAccount_Active_ARG', 'SavingAccount_Active_DOLLAR', 'DebitCard_Active', \n",
    "    'Investment_Active', 'Package_Active', 'Insurance_Life', 'Insurance_Home', 'Insurance_Accidents', 'Insurance_Mobile', 'Insurance_ATM', \n",
    "    'Insurance_Unemployment', 'Sex', 'Client_Age_grp', 'Region', 'CreditCard_Product']]\n",
    "data_if"
   ]
  },
  {
   "cell_type": "code",
   "execution_count": null,
   "id": "ca1e61a2-51f3-4bda-a0d7-0c36f8f47d8f",
   "metadata": {},
   "outputs": [],
   "source": [
    "# Primero las binarias\n",
    "pd.set_option('future.no_silent_downcasting', True)\n",
    "data_if = data_if.replace({'Yes': 1, 'No': 0})\n",
    "# esta funcion hay que aplicarla con cuidado, reemplaza y castea todos los yes | no que encuentre\n",
    "pd.set_option('future.no_silent_downcasting', True)\n",
    "data_if = data_if.replace({'M': 1, 'F': 0})\n",
    "# esta funcion hay que aplicarla con cuidado, reemplaza y castea todos los M | F que encuentre"
   ]
  },
  {
   "cell_type": "code",
   "execution_count": null,
   "id": "d5c1ed86-c94a-41f2-b250-6ee561dc36f7",
   "metadata": {},
   "outputs": [],
   "source": [
    "data_if"
   ]
  },
  {
   "cell_type": "code",
   "execution_count": null,
   "id": "510052bb-c9ad-4672-887c-22ebbb1fc620",
   "metadata": {},
   "outputs": [],
   "source": [
    "# Eso fue el tratamiento de las identity features\n",
    "# Ahora sigo con las categoricas\n",
    "data_if['Client_Age_grp'].value_counts()"
   ]
  },
  {
   "cell_type": "code",
   "execution_count": null,
   "id": "b9ff8a67-f76d-4cdf-975a-3d99994d8e6d",
   "metadata": {},
   "outputs": [],
   "source": [
    "data_buffer_categorica = data_if.merge(training_window[['client_id', 'Target']],on='client_id',how='left')\n",
    "data_buffer_categorica"
   ]
  },
  {
   "cell_type": "code",
   "execution_count": null,
   "id": "15c47ef3-f2f4-429a-a0bd-6c4b04d86133",
   "metadata": {},
   "outputs": [],
   "source": [
    "# Tengo que trabajar con Client_Age_grp, Region, CreditCard_Product\n",
    "# 1) Empiezo por Client_Age_grp\n",
    "data_buffer_categorica[['Client_Age_grp', 'Target']].value_counts().reset_index()"
   ]
  },
  {
   "cell_type": "code",
   "execution_count": null,
   "id": "22b9c96e-9fd0-4b0d-a344-518d9e4e661b",
   "metadata": {},
   "outputs": [],
   "source": [
    "# Porcentaje que representa cuantos son target de cada rango\n",
    "di = {\n",
    "    \"Entre 18 y 29 años\": 25,\n",
    "    \"Entre 30 y 39 años\": 23,\n",
    "    \"Entre 40 y 49 años\": 25,\n",
    "    \"Entre 50 y 59 años\": 35,\n",
    "    \"Entre 60 y 64 años\": 37,\n",
    "    \"Entre 65 y 69 años\": 40,\n",
    "    \"Mayor a 70 años\": 33\n",
    "     }\n",
    "\n",
    "# Agrego la columna generada a data_if\n",
    "data_if['Client_Age_grp_Target'] = data_if['Client_Age_grp'].map(di)\n",
    "\n",
    "data_if[['Client_Age_grp', 'Client_Age_grp_Target']].value_counts()"
   ]
  },
  {
   "cell_type": "code",
   "execution_count": null,
   "id": "32167a57-b52a-410b-b60d-5d5da2adf795",
   "metadata": {},
   "outputs": [],
   "source": [
    "# Borro la columna que no necesito mas\n",
    "data_if.drop(['Client_Age_grp'], axis=1, inplace=True)"
   ]
  },
  {
   "cell_type": "code",
   "execution_count": null,
   "id": "8d864af1-c745-4094-a0fe-01bd12783932",
   "metadata": {},
   "outputs": [],
   "source": [
    "data_if"
   ]
  },
  {
   "cell_type": "code",
   "execution_count": null,
   "id": "675b4e51-9342-4be3-8a76-48443d74a5f2",
   "metadata": {},
   "outputs": [],
   "source": [
    "# 2) Sigo con Region\n",
    "data_buffer_categorica[['Region', 'Target']].value_counts().reset_index()"
   ]
  },
  {
   "cell_type": "code",
   "execution_count": null,
   "id": "eea583ce-0636-464a-b17e-32b9738ca8e5",
   "metadata": {},
   "outputs": [],
   "source": [
    "# Porcentaje que representa cuantos son target de cada rango\n",
    "dr = {\n",
    "    \"BUENOS AIRES\": 31,\n",
    "    \"REGION CENTRO\": 24,\n",
    "    \"REGION NORTE GRANDE ARGENTINO\": 29,\n",
    "    \"REGION PATAGONICA\": 34,\n",
    "    \"CABA Centro/Norte\": 30,\n",
    "    \"AMBA Resto\": 32,\n",
    "    \"REGION CUYO\": 30\n",
    "     }\n",
    "\n",
    "# Agrego la columna generada a data_if\n",
    "data_if['Region_Target'] = data_if['Region'].map(dr)\n",
    "\n",
    "data_if[['Region', 'Region_Target']].value_counts()"
   ]
  },
  {
   "cell_type": "code",
   "execution_count": null,
   "id": "588920e3-b072-4f8b-bf1d-da5ba43a57ef",
   "metadata": {},
   "outputs": [],
   "source": [
    "# Borro la columna que no necesito mas\n",
    "data_if.drop(['Region'], axis=1, inplace=True)"
   ]
  },
  {
   "cell_type": "code",
   "execution_count": null,
   "id": "0789b143-2345-4c07-9e0f-156ec966c49d",
   "metadata": {},
   "outputs": [],
   "source": [
    "data_if"
   ]
  },
  {
   "cell_type": "code",
   "execution_count": null,
   "id": "e3129d81-b6ed-49ab-8e4e-9823b9060e49",
   "metadata": {},
   "outputs": [],
   "source": [
    "# 2) Sigo con CreditCard_Product\n",
    "data_buffer_categorica[['CreditCard_Product', 'Target']].value_counts().reset_index()"
   ]
  },
  {
   "cell_type": "code",
   "execution_count": null,
   "id": "dbf2cff0-3115-4426-a093-136edcd65e2e",
   "metadata": {},
   "outputs": [],
   "source": [
    "# Porcentaje que representa cuantos son target de cada rango\n",
    "dp = {\n",
    "    \"J55660102XX012\": 34,\n",
    "    \"J55660104XX012\": 47,\n",
    "    \"J55660123XX012\": 0,\n",
    "    \"J55660124XX012\": 38,\n",
    "    \"J55660202XX012\": 37,\n",
    "    \"J55660702XX012\": 42,\n",
    "    \"J55661002XX012\": 62,\n",
    "    \"No tiene\": 6\n",
    "     }\n",
    "\n",
    "# Agrego la columna generada a data_if\n",
    "data_if['CreditCard_Product_Target'] = data_if['CreditCard_Product'].map(dp)\n",
    "\n",
    "data_if[['CreditCard_Product', 'CreditCard_Product_Target']].value_counts()"
   ]
  },
  {
   "cell_type": "code",
   "execution_count": null,
   "id": "95dfba38-22f6-4576-b9fb-5f754f0ccf9c",
   "metadata": {},
   "outputs": [],
   "source": [
    "# Borro la columna que no necesito mas\n",
    "data_if.drop(['CreditCard_Product'], axis=1, inplace=True)"
   ]
  },
  {
   "cell_type": "code",
   "execution_count": null,
   "id": "dbd2ca9f-b067-4e31-847e-eaf9a2edfa22",
   "metadata": {},
   "outputs": [],
   "source": [
    "data_if"
   ]
  },
  {
   "cell_type": "code",
   "execution_count": null,
   "id": "1ade1264-609f-40c9-bc6b-89e3fdc760c9",
   "metadata": {},
   "outputs": [],
   "source": [
    "# Ahora paso a trabajar las transform feature, las puedo tomar de los meses que quiera\n",
    "# Agrego las vistas en clase\n",
    "\n",
    "training_window['Operation_total'] = training_window['Operations_Bank'] + training_window['Operations_Terminal'] + training_window[ 'Operations_HomeBanking'] + training_window[\n",
    "       'Operations_Mobile'] + training_window[ 'Operations_Ivr'] + training_window[ 'Operations_Telemarketer'] + training_window[\n",
    "       'Operations_ATM']\n",
    "\n",
    "\n",
    "training_window[['Operations_Bank', 'Operations_Terminal', 'Operations_HomeBanking',\n",
    "       'Operations_Mobile', 'Operations_Ivr', 'Operations_Telemarketer',\n",
    "       'Operations_ATM', 'Operation_total']]"
   ]
  },
  {
   "cell_type": "code",
   "execution_count": null,
   "id": "46b58ff7-a709-4ce5-b25a-28be3e77a063",
   "metadata": {},
   "outputs": [],
   "source": [
    "training_window['Operation_digitales'] = training_window[ 'Operations_HomeBanking'] + training_window[\n",
    "       'Operations_Mobile'] + training_window[ 'Operations_Ivr'] + training_window[ 'Operations_Telemarketer']"
   ]
  },
  {
   "cell_type": "code",
   "execution_count": null,
   "id": "a6527165-f638-49c2-b0d0-f07d2daf93d3",
   "metadata": {},
   "outputs": [],
   "source": [
    "training_window['Operation_digitales_porc'] = training_window['Operation_digitales'] / training_window['Operation_total']"
   ]
  },
  {
   "cell_type": "code",
   "execution_count": null,
   "id": "171f29cd-ae85-49b9-8935-4df0dcdfef9a",
   "metadata": {},
   "outputs": [],
   "source": [
    "training_window[['Operation_digitales_porc', 'Operation_digitales', 'Operation_total']].value_counts().reset_index()"
   ]
  },
  {
   "cell_type": "code",
   "execution_count": null,
   "id": "99e3ce57-6614-4805-88e4-7ab25331ad21",
   "metadata": {},
   "outputs": [],
   "source": [
    "training_window['Operation_digitales_hb_porc'] = training_window[ 'Operations_HomeBanking'] / training_window[ 'Operation_digitales']"
   ]
  },
  {
   "cell_type": "code",
   "execution_count": null,
   "id": "a66425fb-3870-4426-a4d5-38052a92a897",
   "metadata": {},
   "outputs": [],
   "source": [
    "training_window[['Operation_digitales_porc', 'Operation_digitales', 'Operation_total', 'Operation_digitales_hb_porc']].value_counts().reset_index()"
   ]
  },
  {
   "cell_type": "code",
   "execution_count": null,
   "id": "214d5b95-77e1-4b33-b26d-a75f4877b67e",
   "metadata": {},
   "outputs": [],
   "source": [
    "Ver video en 2:01:00 para tener idea de que otras variables podemos hacer"
   ]
  },
  {
   "cell_type": "code",
   "execution_count": null,
   "id": "a8834484-2aa5-4a03-921b-73e4857676f0",
   "metadata": {},
   "outputs": [],
   "source": [
    "# Sigo con las agregadas"
   ]
  },
  {
   "cell_type": "code",
   "execution_count": null,
   "id": "84da0268-513a-4d67-abaf-9e6d472f44fb",
   "metadata": {},
   "outputs": [],
   "source": [
    "var = ['SavingAccount_Active_ARG_Salary','SavingAccount_Active_ARG','SavingAccount_Active_DOLLAR', 'SavingAccount_Balance_FirstDate', \n",
    "       'SavingAccount_Balance_LastDate', 'SavingAccount_Balance_Average', 'SavingAccount_Days_with_use', \n",
    "       'SavingAccount_Days_with_Credits', 'SavingAccount_Days_with_Debits', 'SavingAccount_Salary_Payment_Transactions', \n",
    "       'SavingAccount_Transfer_In_Transactions', 'SavingAccount_ATM_Extraction_Transactions', 'SavingAccount_Service_Payment_Transactions', \n",
    "       'SavingAccount_CreditCard_Payment_Transactions', 'SavingAccount_Transfer_Out_Transactions', 'SavingAccount_DebitCard_Spend_Transactions', \n",
    "       'SavingAccount_Transactions_Transactions', 'SavingAccount_Credits_Transactions', 'SavingAccount_Debits_Transactions', \n",
    "       'SavingAccount_Salary_Payment_Amount', 'SavingAccount_Transfer_In_Amount', 'SavingAccount_ATM_Extraction_Amount', \n",
    "       'SavingAccount_Service_Payment_Amount', 'SavingAccount_CreditCard_Payment_Amount', 'SavingAccount_Transfer_Out_Amount', \n",
    "       'SavingAccount_DebitCard_Spend_Amount', 'SavingAccount_Total_Amount', 'SavingAccount_Credits_Amounts', 'SavingAccount_Debits_Amounts', \n",
    "       'Operations_Bank', 'Operations_Terminal', 'Operations_HomeBanking', 'Operations_Mobile', 'Operations_Ivr', 'Operations_Telemarketer', \n",
    "       'Operations_ATM', 'CreditCard_Balance_ARG', 'CreditCard_Balance_DOLLAR', 'CreditCard_Total_Limit', 'CreditCard_Total_Spending', \n",
    "       'CreditCard_Spending_1_Installment', 'CreditCard_Spending_Installments', 'CreditCard_Spending_CrossBoarder', 'CreditCard_Spending_Aut_Debits', \n",
    "       'CreditCard_Revolving', 'CreditCard_Payment_Aut_Debit', 'CreditCard_Payment_External', 'CreditCard_Payment_Cash', 'CreditCard_Payment_Web', \n",
    "       'CreditCard_Payment_ATM', 'CreditCard_Payment_TAS', 'Investment_Numbers', 'SavingAccount_Balance_FirstDate_bin', \n",
    "       'SavingAccount_Balance_LastDate_bin', 'SavingAccount_Balance_Average_bin', 'SavingAccount_Days_with_use_bin', \n",
    "       'SavingAccount_Days_with_Credits_bin', 'SavingAccount_Days_with_Debits_bin', 'SavingAccount_Salary_Payment_Transactions_bin', \n",
    "       'SavingAccount_Transfer_In_Transactions_bin', 'SavingAccount_ATM_Extraction_Transactions_bin', 'SavingAccount_Service_Payment_Transactions_bin', \n",
    "       'SavingAccount_CreditCard_Payment_Transactions_bin', 'SavingAccount_Transfer_Out_Transactions_bin', \n",
    "       'SavingAccount_DebitCard_Spend_Transactions_bin', 'SavingAccount_Transactions_Transactions_bin', 'SavingAccount_Credits_Transactions_bin', \n",
    "       'SavingAccount_Debits_Transactions_bin', 'SavingAccount_Salary_Payment_Amount_bin', 'SavingAccount_Transfer_In_Amount_bin', \n",
    "       'SavingAccount_ATM_Extraction_Amount_bin', 'SavingAccount_Service_Payment_Amount_bin', 'SavingAccount_CreditCard_Payment_Amount_bin', \n",
    "       'SavingAccount_Transfer_Out_Amount_bin', 'SavingAccount_DebitCard_Spend_Amount_bin', 'SavingAccount_Total_Amount_bin', \n",
    "       'SavingAccount_Credits_Amounts_bin', 'SavingAccount_Debits_Amounts_bin', 'Operations_Bank_bin', 'Operations_Terminal_bin', \n",
    "       'Operations_HomeBanking_bin', 'Operations_Mobile_bin', 'Operations_Ivr_bin', 'Operations_Telemarketer_bin', 'Operations_ATM_bin', \n",
    "       'CreditCard_Balance_ARG_bin', 'CreditCard_Balance_DOLLAR_bin', 'CreditCard_Total_Limit_bin', 'CreditCard_Total_Spending_bin', \n",
    "       'CreditCard_Spending_1_Installment_bin', 'CreditCard_Spending_Installments_bin', 'CreditCard_Spending_CrossBoarder_bin', \n",
    "       'CreditCard_Spending_Aut_Debits_bin', 'CreditCard_Revolving_bin', 'CreditCard_Payment_Aut_Debit_bin', 'CreditCard_Payment_External_bin', \n",
    "       'CreditCard_Payment_Cash_bin', 'CreditCard_Payment_Web_bin', 'CreditCard_Payment_ATM_bin', 'CreditCard_Payment_TAS_bin', 'Investment_Numbers_bin']\n",
    "\n",
    "print(len(var))\n"
   ]
  },
  {
   "cell_type": "code",
   "execution_count": null,
   "id": "2b37cc02-c825-4e72-9796-df58d8d6ea7c",
   "metadata": {},
   "outputs": [],
   "source": [
    "columns_a_reemplar = ['SavingAccount_Active_ARG_Salary','SavingAccount_Active_ARG','SavingAccount_Active_DOLLAR']\n",
    "\n",
    "for column in columns_a_reemplar:\n",
    "    try:\n",
    "        data_trainWindow[column] = data_trainWindow[column].replace(map_id)\n",
    "        data_trainWindow[column] = data_trainWindow[column].fillna(0)\n",
    "    except:\n",
    "        pass"
   ]
  },
  {
   "cell_type": "code",
   "execution_count": null,
   "id": "30454cb4-e4f1-473c-bba4-e23bffb9b498",
   "metadata": {},
   "outputs": [],
   "source": [
    "data_final_sa_abt = training_window.groupby(['client_id'])[var].agg(['sum', 'max','min', 'mean', 'median', np.count_nonzero, 'nunique']).reset_index()\n",
    "data_final_sa_abt.columns"
   ]
  },
  {
   "cell_type": "code",
   "execution_count": null,
   "id": "3c4f00c2-7bc2-433a-b8a0-e713d07facbf",
   "metadata": {},
   "outputs": [],
   "source": [
    "len(data_final_sa_abt.columns)"
   ]
  },
  {
   "cell_type": "code",
   "execution_count": null,
   "id": "d29f0833-290a-4162-bfa4-af20277fce89",
   "metadata": {},
   "outputs": [],
   "source": [
    "data_final_sa_abt.columns = ['_'.join(x) for x in np.array(data_final_sa_abt.columns)]\n",
    "data_final_sa_abt.columns"
   ]
  },
  {
   "cell_type": "code",
   "execution_count": null,
   "id": "2dba6877-32fa-4375-80d4-a13ccf0398e6",
   "metadata": {},
   "outputs": [],
   "source": [
    "data_final_sa_abt['client_id'] = data_final_sa_abt['client_id_']\n",
    "data_final_sa_abt.columns"
   ]
  },
  {
   "cell_type": "code",
   "execution_count": null,
   "id": "5f6303d5-e981-40de-9301-1cd609cfbdc0",
   "metadata": {},
   "outputs": [],
   "source": [
    "data_final_sa_abt['SavingAccount_Days_with_use_bin_nunique'].value_counts()"
   ]
  },
  {
   "cell_type": "code",
   "execution_count": null,
   "id": "210f698b-6205-4707-ae2a-afe8d956b61f",
   "metadata": {},
   "outputs": [],
   "source": [
    "print(len(data_final_sa_abt))"
   ]
  },
  {
   "cell_type": "code",
   "execution_count": null,
   "id": "43fdcce2-20b7-41d6-88f6-5d72c4394992",
   "metadata": {},
   "outputs": [],
   "source": [
    "ABT = data_TGT.merge(data_if, how='inner', on='client_id')\\\n",
    ".merge(data_final_sa_abt, how='inner', on='client_id')\n",
    "\n",
    "ABT.shape"
   ]
  },
  {
   "cell_type": "code",
   "execution_count": null,
   "id": "742747dd-d1de-45cf-bf43-5f9ab7a3ac8a",
   "metadata": {},
   "outputs": [],
   "source": [
    "data_final_sa_abt"
   ]
  },
  {
   "cell_type": "code",
   "execution_count": null,
   "id": "8965c7fe-1bb3-481b-adec-fd2ff52c2b1c",
   "metadata": {},
   "outputs": [],
   "source": []
  },
  {
   "cell_type": "code",
   "execution_count": null,
   "id": "fa733bf4-c1aa-4444-af76-e8a8c850465c",
   "metadata": {},
   "outputs": [],
   "source": []
  },
  {
   "cell_type": "code",
   "execution_count": null,
   "id": "5cc921ef-38f5-407e-b6f0-7ca08bb3ad5d",
   "metadata": {},
   "outputs": [],
   "source": []
  }
 ],
 "metadata": {
  "kernelspec": {
   "display_name": "Python [conda env:base] *",
   "language": "python",
   "name": "conda-base-py"
  },
  "language_info": {
   "codemirror_mode": {
    "name": "ipython",
    "version": 3
   },
   "file_extension": ".py",
   "mimetype": "text/x-python",
   "name": "python",
   "nbconvert_exporter": "python",
   "pygments_lexer": "ipython3",
   "version": "3.13.5"
  }
 },
 "nbformat": 4,
 "nbformat_minor": 5
}
