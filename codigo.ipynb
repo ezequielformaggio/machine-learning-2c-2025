{
 "cells": [
  {
   "cell_type": "code",
   "execution_count": 124,
   "id": "792e5a0d-502f-4692-b9b9-f018027980c0",
   "metadata": {},
   "outputs": [],
   "source": [
    "import pandas as pd\n",
    "import numpy as np"
   ]
  },
  {
   "cell_type": "code",
   "execution_count": 125,
   "id": "7973bb26-2174-4020-91a6-bd94d5b0f7d3",
   "metadata": {},
   "outputs": [],
   "source": [
    "data = pd.read_csv(r'C:\\Users\\forma\\Desktop\\machine-learning-2c-2025\\data.csv', low_memory=False, sep='|')"
   ]
  },
  {
   "cell_type": "code",
   "execution_count": 126,
   "id": "a2d5398c-b483-41f8-bb07-da8ee8fedcdb",
   "metadata": {},
   "outputs": [
    {
     "data": {
      "text/plain": [
       "Index(['client_id', 'Target', 'Month', 'First_product_dt', 'Last_product_dt',\n",
       "       'CreditCard_Premium', 'CreditCard_Active', 'CreditCard_CoBranding',\n",
       "       'Loan_Active', 'Mortgage_Active', 'SavingAccount_Active_ARG_Salary',\n",
       "       'SavingAccount_Active_ARG', 'SavingAccount_Active_DOLLAR',\n",
       "       'DebitCard_Active', 'Investment_Active', 'Package_Active',\n",
       "       'Insurance_Life', 'Insurance_Home', 'Insurance_Accidents',\n",
       "       'Insurance_Mobile', 'Insurance_ATM', 'Insurance_Unemployment', 'Sex',\n",
       "       'Client_Age_grp', 'SavingAccount_Balance_FirstDate',\n",
       "       'SavingAccount_Balance_LastDate', 'SavingAccount_Balance_Average',\n",
       "       'SavingAccount_Days_with_use', 'SavingAccount_Days_with_Credits',\n",
       "       'SavingAccount_Days_with_Debits',\n",
       "       'SavingAccount_Salary_Payment_Transactions',\n",
       "       'SavingAccount_Transfer_In_Transactions',\n",
       "       'SavingAccount_ATM_Extraction_Transactions',\n",
       "       'SavingAccount_Service_Payment_Transactions',\n",
       "       'SavingAccount_CreditCard_Payment_Transactions',\n",
       "       'SavingAccount_Transfer_Out_Transactions',\n",
       "       'SavingAccount_DebitCard_Spend_Transactions',\n",
       "       'SavingAccount_Transactions_Transactions',\n",
       "       'SavingAccount_Credits_Transactions',\n",
       "       'SavingAccount_Debits_Transactions',\n",
       "       'SavingAccount_Salary_Payment_Amount',\n",
       "       'SavingAccount_Transfer_In_Amount',\n",
       "       'SavingAccount_ATM_Extraction_Amount',\n",
       "       'SavingAccount_Service_Payment_Amount',\n",
       "       'SavingAccount_CreditCard_Payment_Amount',\n",
       "       'SavingAccount_Transfer_Out_Amount',\n",
       "       'SavingAccount_DebitCard_Spend_Amount', 'SavingAccount_Total_Amount',\n",
       "       'SavingAccount_Credits_Amounts', 'SavingAccount_Debits_Amounts',\n",
       "       'Operations_Bank', 'Operations_Terminal', 'Operations_HomeBanking',\n",
       "       'Operations_Mobile', 'Operations_Ivr', 'Operations_Telemarketer',\n",
       "       'Operations_ATM', 'CreditCard_Balance_ARG', 'CreditCard_Balance_DOLLAR',\n",
       "       'CreditCard_Total_Limit', 'CreditCard_Total_Spending',\n",
       "       'CreditCard_Spending_1_Installment', 'CreditCard_Spending_Installments',\n",
       "       'CreditCard_Spending_CrossBoarder', 'CreditCard_Spending_Aut_Debits',\n",
       "       'CreditCard_Revolving', 'CreditCard_Payment_Aut_Debit',\n",
       "       'CreditCard_Payment_External', 'CreditCard_Payment_Cash',\n",
       "       'CreditCard_Payment_Web', 'CreditCard_Payment_ATM',\n",
       "       'CreditCard_Payment_TAS', 'Investment_Numbers', 'Mobile', 'Email',\n",
       "       'Region', 'CreditCard_Product'],\n",
       "      dtype='object')"
      ]
     },
     "execution_count": 126,
     "metadata": {},
     "output_type": "execute_result"
    }
   ],
   "source": [
    "data.columns"
   ]
  },
  {
   "cell_type": "code",
   "execution_count": 127,
   "id": "ee337f75-6c60-4db7-b103-18298fe83217",
   "metadata": {},
   "outputs": [
    {
     "name": "stdout",
     "output_type": "stream",
     "text": [
      "client_id\n",
      "4221845                   9\n",
      "7219504                   9\n",
      "5882370                   9\n",
      "1158013                   9\n",
      "3914580                   9\n",
      "                         ..\n",
      "6623284                   1\n",
      "672542                    1\n",
      "264018                    1\n",
      "4424661                   1\n",
      "(238615 rows affected)    1\n",
      "Name: count, Length: 26561, dtype: int64\n"
     ]
    }
   ],
   "source": [
    "print(data['client_id'].value_counts())"
   ]
  },
  {
   "cell_type": "code",
   "execution_count": 139,
   "id": "c9d243df-a4c3-4650-849e-880a4a93cf21",
   "metadata": {},
   "outputs": [
    {
     "data": {
      "text/plain": [
       "(26483,)"
      ]
     },
     "execution_count": 139,
     "metadata": {},
     "output_type": "execute_result"
    }
   ],
   "source": [
    "# Busco los ID´s de los clientes que tienen 9 meses de data\n",
    "\n",
    "# Creo una tabla con ID_cliente, cantidad de apariciones\n",
    "ids_clientes_9m = data['client_id'].value_counts()\n",
    "\n",
    "# Me quedo solo con aquellos que aparecen 9 veces \n",
    "ids_clientes_9m = ids_clientes_9m[ids_clientes_9m == 9].index"
   ]
  },
  {
   "cell_type": "code",
   "execution_count": 140,
   "id": "91340491-fcea-44dd-a0c8-dfa5854679c8",
   "metadata": {},
   "outputs": [
    {
     "data": {
      "text/plain": [
       "(23191,)"
      ]
     },
     "execution_count": 140,
     "metadata": {},
     "output_type": "execute_result"
    }
   ],
   "source": [
    "# [agosto, septiembre, octubre, noviembre, diciembre, enero] TW, [febrero] LW, [marzo, abril] PW\n",
    "\n",
    "# me quedo con los clientes que en el ultimo mes de la TW tienen package_active = no & CreditCard_CoBranding = no, y ademas, aparecen en los 9 meses\n",
    "filtered_bussiness_conditions = data_clientes_9m[(data_clientes_9m['Month'] == '2019-01-01') \n",
    "                    & (data_clientes_9m['Package_Active'] == 'No')\n",
    "                    & (data_clientes_9m['CreditCard_CoBranding'] == 'No')]\n",
    "\n",
    "# Obtengo sus id\n",
    "ids_filtered_bussiness_conditions = filtered_bussiness_conditions['client_id'].values\n",
    "ids_filtered_bussiness_conditions.shape"
   ]
  },
  {
   "cell_type": "code",
   "execution_count": 144,
   "id": "2c5b5395-8a51-49c1-a1a4-0476c10a4598",
   "metadata": {},
   "outputs": [
    {
     "data": {
      "text/plain": [
       "(208719, 77)"
      ]
     },
     "execution_count": 144,
     "metadata": {},
     "output_type": "execute_result"
    }
   ],
   "source": [
    "# Ahora unifico la tabla de clientes filtrados por paquete con los que aparecen 9 meses \n",
    "\n",
    "data_final = data[data['client_id'].isin(ids_filtered_bussiness_conditions)]\n",
    "data_final.shape"
   ]
  },
  {
   "cell_type": "code",
   "execution_count": 145,
   "id": "05ae7cab-e391-4e3d-a421-32c15324be11",
   "metadata": {},
   "outputs": [
    {
     "data": {
      "text/plain": [
       "(139146, 77)"
      ]
     },
     "execution_count": 145,
     "metadata": {},
     "output_type": "execute_result"
    }
   ],
   "source": [
    "# Ahora ya puedo separar las ventanas\n",
    "training_window = data_final[data_final['Month'].isin(['2018-08-01',    \n",
    "'2018-09-01',\n",
    "'2018-10-01',\n",
    "'2018-11-01',\n",
    "'2018-12-01',\n",
    "'2019-01-01'   \n",
    "])]\n",
    "\n",
    "training_window.shape"
   ]
  },
  {
   "cell_type": "code",
   "execution_count": null,
   "id": "31cbcb3a-4a96-4a84-9891-37933bf8cbc3",
   "metadata": {},
   "outputs": [],
   "source": [
    "data_lead_window = data_final[data_final['Month'].isin(['2018-08-01'])]\n",
    "\n",
    "data_training_window.shape"
   ]
  }
 ],
 "metadata": {
  "kernelspec": {
   "display_name": "Python [conda env:base] *",
   "language": "python",
   "name": "conda-base-py"
  },
  "language_info": {
   "codemirror_mode": {
    "name": "ipython",
    "version": 3
   },
   "file_extension": ".py",
   "mimetype": "text/x-python",
   "name": "python",
   "nbconvert_exporter": "python",
   "pygments_lexer": "ipython3",
   "version": "3.13.5"
  }
 },
 "nbformat": 4,
 "nbformat_minor": 5
}
